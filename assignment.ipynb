{
  "nbformat": 4,
  "nbformat_minor": 0,
  "metadata": {
    "colab": {
      "provenance": []
    },
    "kernelspec": {
      "name": "python3",
      "display_name": "Python 3"
    },
    "language_info": {
      "name": "python"
    }
  },
  "cells": [
    {
      "cell_type": "code",
      "execution_count": 2,
      "metadata": {
        "colab": {
          "base_uri": "https://localhost:8080/"
        },
        "id": "dImMteaLxAY7",
        "outputId": "a815c93b-743b-4cff-d92f-57dc4a6534b4"
      },
      "outputs": [
        {
          "output_type": "stream",
          "name": "stdout",
          "text": [
            "First 5 rows of Customers Dataset:\n",
            "   CustomerID  Age         City\n",
            "0           1   22     New York\n",
            "1           2   23  Los Angeles\n",
            "2           3   24      Chicago\n",
            "3           4   25      Houston\n",
            "4           5   26      Phoenix\n",
            "\n",
            "First 5 rows of Sales Dataset:\n",
            "   SaleID  CustomerID     Product  Amount\n",
            "0     101           1      Laptop     200\n",
            "1     102           2  Smartphone     500\n",
            "2     103           3      Tablet     800\n",
            "3     104           4  Headphones    1100\n",
            "4     105           5     Monitor    1400\n",
            "\n",
            "Customers shape: (100, 3)\n",
            "Sales shape: (400, 4)\n"
          ]
        }
      ],
      "source": [
        "#TASK 01\n",
        "import pandas as pd\n",
        "customers = pd.read_csv(\"/content/customers.csv\")\n",
        "sales = pd.read_csv(\"/content/sales.csv\")\n",
        "\n",
        "print(\"First 5 rows of Customers Dataset:\")  #few lines of each dataset\n",
        "print(customers.head())\n",
        "print(\"\\nFirst 5 rows of Sales Dataset:\")\n",
        "print(sales.head())\n",
        "\n",
        "#Show the total number of rows and columns\n",
        "print(\"\\nCustomers shape:\", customers.shape)\n",
        "print(\"Sales shape:\", sales.shape)\n",
        "\n",
        "customers.fillna(\"Unknown\", inplace=True)  # Replace missing values in customers dataset\n",
        "sales.fillna(0, inplace=True)  # Replace missing values in sales dataset\n",
        "\n",
        "\n"
      ]
    },
    {
      "cell_type": "code",
      "source": [
        "#TASK 02\n",
        "import pandas as pd\n",
        "import time\n",
        "customers= pd.read_csv('/content/customers.csv')\n",
        "customers_dict = customers.to_dict(orient='records')\n",
        "\n",
        "#Define a city to filter by\n",
        "target_city = 'Phoenix'\n",
        "start_time = time.time()\n",
        "#filtering using dictionary\n",
        "filtered_customers_dict = [customer for customer in customers_dict if customer['City'] == target_city]\n",
        "dict_time = time.time() - start_time\n",
        "\n",
        "start_time = time.time()\n",
        "\n",
        "#Pandas filtering\n",
        "filtered_customers = customers[customers['City'] == target_city]\n",
        "\n",
        "df_time = time.time() - start_time\n",
        "\n",
        "print(f\"dictionary: {len(filtered_customers_dict)}\")\n",
        "print(f\"DataFrame: {len(filtered_customers)}\")\n",
        "\n",
        "# Comparing the time taken for both approaches\n",
        "print(f\"Time taken using dictionary: {dict_time:.5f} seconds\")\n",
        "print(f\"Time taken using DataFrame: {df_time:.5f} seconds\")\n",
        "\n"
      ],
      "metadata": {
        "colab": {
          "base_uri": "https://localhost:8080/"
        },
        "id": "NVW6mCuRyutD",
        "outputId": "d4cf5922-d73e-45b5-84e9-71621b772309"
      },
      "execution_count": 3,
      "outputs": [
        {
          "output_type": "stream",
          "name": "stdout",
          "text": [
            "dictionary: 20\n",
            "DataFrame: 20\n",
            "Time taken using dictionary: 0.00018 seconds\n",
            "Time taken using DataFrame: 0.00649 seconds\n"
          ]
        }
      ]
    },
    {
      "cell_type": "code",
      "source": [
        "#TASK 03\n",
        "import pandas as pd\n",
        "cust_df = pd.read_csv('/content/customers.csv')\n",
        "sales_df = pd.read_csv('/content/sales.csv')\n",
        "\n",
        "# Find duplicates in customers DataFrame\n",
        "cust_dups = cust_df[cust_df.duplicated()]\n",
        "# Remove duplicates\n",
        "cust_cleaned = cust_df.drop_duplicates()\n",
        "cust_no_dups = cust_cleaned[cust_cleaned.duplicated()]\n",
        "\n",
        "# Find duplicates in sales DataFrame\n",
        "sales_dups = sales_df[sales_df.duplicated()]\n",
        "# Remove duplicates from sales DataFrame\n",
        "sales_cleaned = sales_df.drop_duplicates()\n",
        "sales_no_dups = sales_cleaned[sales_cleaned.duplicated()]\n",
        "\n",
        "print(\"Duplicate rows in 'customers':\")\n",
        "print(cust_dups)\n",
        "print(\"\\nCleaned 'customers' DataFrame (no duplicates):\")\n",
        "print(cust_cleaned.head())  # Display first few rows to confirm\n",
        "\n",
        "print(\"\\nDuplicate rows in 'sales':\")\n",
        "print(sales_dups)\n",
        "print(\"\\nCleaned 'sales' DataFrame (no duplicates):\")\n",
        "print(sales_cleaned.head())\n",
        "if cust_no_dups.empty:\n",
        "    print(\"\\nNo duplicates left in 'customers' dataset.\")\n",
        "if sales_no_dups.empty:\n",
        "    print(\"\\nNo duplicates left in 'sales' dataset.\")\n",
        "\n",
        "\n"
      ],
      "metadata": {
        "colab": {
          "base_uri": "https://localhost:8080/"
        },
        "id": "UOna31iDy51_",
        "outputId": "2c806267-5df4-4349-9424-009cff37b085"
      },
      "execution_count": 5,
      "outputs": [
        {
          "output_type": "stream",
          "name": "stdout",
          "text": [
            "Duplicate rows in 'customers':\n",
            "Empty DataFrame\n",
            "Columns: [CustomerID, Age, City]\n",
            "Index: []\n",
            "\n",
            "Cleaned 'customers' DataFrame (no duplicates):\n",
            "   CustomerID  Age         City\n",
            "0           1   22     New York\n",
            "1           2   23  Los Angeles\n",
            "2           3   24      Chicago\n",
            "3           4   25      Houston\n",
            "4           5   26      Phoenix\n",
            "\n",
            "Duplicate rows in 'sales':\n",
            "Empty DataFrame\n",
            "Columns: [SaleID, CustomerID, Product, Amount]\n",
            "Index: []\n",
            "\n",
            "Cleaned 'sales' DataFrame (no duplicates):\n",
            "   SaleID  CustomerID     Product  Amount\n",
            "0     101           1      Laptop     200\n",
            "1     102           2  Smartphone     500\n",
            "2     103           3      Tablet     800\n",
            "3     104           4  Headphones    1100\n",
            "4     105           5     Monitor    1400\n",
            "\n",
            "No duplicates left in 'customers' dataset.\n",
            "\n",
            "No duplicates left in 'sales' dataset.\n"
          ]
        }
      ]
    },
    {
      "cell_type": "code",
      "source": [
        "#TASK 04\n",
        "import pandas as pd\n",
        "sales_df = pd.read_csv('/content/sales.csv')\n",
        "#new column 'Discounted_Amount' that applies a 10% discount on the 'Amount' column\n",
        "sales_df['Discounted_Amount'] = sales_df['Amount'] * 0.9\n",
        "total_sales_by_product = sales_df.groupby('Product')['Discounted_Amount'].sum().reset_index()\n",
        "\n",
        "print(\"Total Sales After 10% Discount by Product:\")\n",
        "print(total_sales_by_product)\n"
      ],
      "metadata": {
        "colab": {
          "base_uri": "https://localhost:8080/"
        },
        "id": "Nj-Np7mDzIPN",
        "outputId": "30089632-979a-4070-9617-7a38ea8402a3"
      },
      "execution_count": 6,
      "outputs": [
        {
          "output_type": "stream",
          "name": "stdout",
          "text": [
            "Total Sales After 10% Discount by Product:\n",
            "      Product  Discounted_Amount\n",
            "0  Headphones            79200.0\n",
            "1      Laptop            14400.0\n",
            "2     Monitor           100800.0\n",
            "3  Smartphone            36000.0\n",
            "4      Tablet            57600.0\n"
          ]
        }
      ]
    },
    {
      "cell_type": "code",
      "source": [
        "#TASK 05\n",
        "import pandas as pd\n",
        "customers_df = pd.read_csv('/content/customers.csv')\n",
        "#customers with age between 25 and 35\n",
        "filtered_customers = customers_df[(customers_df['Age'] >= 25) & (customers_df['Age'] <= 35)]\n",
        "#Group by 'City' and count the number of customers in each city\n",
        "city_counts = filtered_customers.groupby('City').size().reset_index(name='Customer_Count')\n",
        "print(\"Number of Customers in Each City (Age 25-35):\")\n",
        "print(city_counts)\n"
      ],
      "metadata": {
        "colab": {
          "base_uri": "https://localhost:8080/"
        },
        "id": "rMFZJRIrzTTy",
        "outputId": "ad452a71-de94-4726-fab6-ea7efb14c076"
      },
      "execution_count": 7,
      "outputs": [
        {
          "output_type": "stream",
          "name": "stdout",
          "text": [
            "Number of Customers in Each City (Age 25-35):\n",
            "          City  Customer_Count\n",
            "0      Chicago               7\n",
            "1      Houston              11\n",
            "2  Los Angeles               7\n",
            "3     New York               7\n",
            "4      Phoenix               8\n"
          ]
        }
      ]
    },
    {
      "cell_type": "code",
      "source": [
        "#TASK 06\n",
        "import pandas as pd\n",
        "customers_df = pd.read_csv('/content/customers.csv')\n",
        "sales_df = pd.read_csv('/content/sales.csv')\n",
        "merged_df = pd.merge(sales_df, customers_df, on='CustomerID')\n",
        "#identify the city that generated the highest total sales\n",
        "city_sales = merged_df.groupby('City')['Amount'].sum().reset_index()\n",
        "city_with_highest_sales = city_sales.loc[city_sales['Amount'].idxmax()]\n",
        "# Assuming the 'Amount' can be used as a proxy for quantity (if quantity is not available)\n",
        "product_sales = merged_df.groupby('Product')['Amount'].sum().reset_index()\n",
        "product_with_most_sales = product_sales.loc[product_sales['Amount'].idxmax()]\n",
        "print(\"City with the highest total sales:\")\n",
        "print(city_with_highest_sales)\n",
        "\n",
        "print(\"\\nProduct with the most sales:\")\n",
        "print(product_with_most_sales)"
      ],
      "metadata": {
        "colab": {
          "base_uri": "https://localhost:8080/"
        },
        "id": "7mAovR14zczU",
        "outputId": "6bd8fadb-4267-44e9-bbea-e5495da75981"
      },
      "execution_count": 8,
      "outputs": [
        {
          "output_type": "stream",
          "name": "stdout",
          "text": [
            "City with the highest total sales:\n",
            "City      Phoenix\n",
            "Amount     112000\n",
            "Name: 4, dtype: object\n",
            "\n",
            "Product with the most sales:\n",
            "Product    Monitor\n",
            "Amount      112000\n",
            "Name: 2, dtype: object\n"
          ]
        }
      ]
    },
    {
      "cell_type": "code",
      "source": [
        "#TASK 07\n",
        "import pandas as pd\n",
        "customers_df = pd.read_csv('/content/customers.csv')\n",
        "sales_df = pd.read_csv('/content/sales.csv')\n",
        "merged_df = pd.merge(sales_df, customers_df, on='CustomerID')\n",
        "unique_cities = merged_df['City'].unique()\n",
        "unique_products = merged_df['Product'].unique()\n",
        "\n",
        "print(\"Unique values in 'City' column:\")\n",
        "print(unique_cities)\n",
        "\n",
        "print(\"\\nUnique values in 'Product' column:\")\n",
        "print(unique_products)\n",
        "\n",
        "#Calculate the mean and median of the 'Amount' column\n",
        "mean_amount = merged_df['Amount'].mean()\n",
        "median_amount = merged_df['Amount'].median()\n",
        "\n",
        "print(\"\\nMean of the 'Amount' column:\", mean_amount)\n",
        "print(\"Median of the 'Amount' column:\", median_amount)\n"
      ],
      "metadata": {
        "colab": {
          "base_uri": "https://localhost:8080/"
        },
        "id": "8w3NXCOszlNM",
        "outputId": "4692bcd6-7dbd-455e-ec36-e21f963b220b"
      },
      "execution_count": 9,
      "outputs": [
        {
          "output_type": "stream",
          "name": "stdout",
          "text": [
            "Unique values in 'City' column:\n",
            "['New York' 'Los Angeles' 'Chicago' 'Houston' 'Phoenix']\n",
            "\n",
            "Unique values in 'Product' column:\n",
            "['Laptop' 'Smartphone' 'Tablet' 'Headphones' 'Monitor']\n",
            "\n",
            "Mean of the 'Amount' column: 800.0\n",
            "Median of the 'Amount' column: 800.0\n"
          ]
        }
      ]
    }
  ]
}