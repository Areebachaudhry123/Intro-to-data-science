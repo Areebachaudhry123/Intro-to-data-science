{
  "nbformat": 4,
  "nbformat_minor": 0,
  "metadata": {
    "colab": {
      "provenance": []
    },
    "kernelspec": {
      "name": "python3",
      "display_name": "Python 3"
    },
    "language_info": {
      "name": "python"
    }
  },
  "cells": [
    {
      "cell_type": "code",
      "execution_count": 1,
      "metadata": {
        "colab": {
          "base_uri": "https://localhost:8080/"
        },
        "id": "9qMK5hvx1wt1",
        "outputId": "525ce782-57a7-4078-b714-45888fcd2b7b"
      },
      "outputs": [
        {
          "output_type": "stream",
          "name": "stdout",
          "text": [
            "Sample rows from the Customers dataset:\n",
            "   CustomerID  Age         City\n",
            "0           1   22     New York\n",
            "1           2   23  Los Angeles\n",
            "2           3   24      Chicago\n",
            "3           4   25      Houston\n",
            "4           5   26      Phoenix\n",
            "\n",
            "Sample rows from the Sales dataset:\n",
            "   SaleID  CustomerID     Product  Amount\n",
            "0     101           1      Laptop     200\n",
            "1     102           2  Smartphone     500\n",
            "2     103           3      Tablet     800\n",
            "3     104           4  Headphones    1100\n",
            "4     105           5     Monitor    1400\n",
            "\n",
            "Dimensions of the Customers dataset: (100, 3)\n",
            "Dimensions of the Sales dataset: (400, 4)\n"
          ]
        }
      ],
      "source": [
        "import pandas as pd\n",
        "\n",
        "# Load data from CSV files into DataFrames\n",
        "customer_data = pd.read_csv(\"/content/customers.csv\")\n",
        "sales_data = pd.read_csv(\"/content/sales.csv\")\n",
        "\n",
        "# Display the first few rows of each dataset\n",
        "print(\"Sample rows from the Customers dataset:\")\n",
        "print(customer_data.head())\n",
        "print(\"\\nSample rows from the Sales dataset:\")\n",
        "print(sales_data.head())\n",
        "\n",
        "# Display the total count of rows and columns for both datasets\n",
        "print(\"\\nDimensions of the Customers dataset:\", customer_data.shape)\n",
        "print(\"Dimensions of the Sales dataset:\", sales_data.shape)\n",
        "\n",
        "# Handle missing values: replace blanks in customer_data with 'Not Specified'\n",
        "customer_data.fillna(\"Not Specified\", inplace=True)\n",
        "\n",
        "# Replace null values in sales_data with zero\n",
        "sales_data.fillna(0, inplace=True)\n"
      ]
    },
    {
      "cell_type": "code",
      "source": [
        "import pandas as pd\n",
        "import time\n",
        "\n",
        "# Load the customer data from the CSV file into a DataFrame\n",
        "customer_records = pd.read_csv('customers.csv')\n",
        "\n",
        "# Convert the DataFrame into a list of dictionaries\n",
        "customer_list = customer_records.to_dict(orient='records')\n",
        "\n",
        "# Specify the city to filter by\n",
        "filter_city = 'Phoenix'\n",
        "\n",
        "# Measure the time taken to filter using the dictionary method\n",
        "start_time = time.time()\n",
        "filtered_list = [record for record in customer_list if record['City'] == filter_city]\n",
        "time_dict = time.time() - start_time\n",
        "\n",
        "# Measure the time taken to filter using the DataFrame method\n",
        "start_time = time.time()\n",
        "filtered_df = customer_records[customer_records['City'] == filter_city]\n",
        "time_df = time.time() - start_time\n",
        "\n",
        "# Print the number of results for each method\n",
        "print(f\"Filtered results using list of dictionaries: {len(filtered_list)}\")\n",
        "print(f\"Filtered results using DataFrame: {len(filtered_df)}\")\n",
        "\n",
        "# Compare the execution time of the two methods\n",
        "print(f\"Execution time (list of dictionaries): {time_dict:.5f} seconds\")\n",
        "print(f\"Execution time (DataFrame): {time_df:.5f} seconds\")\n"
      ],
      "metadata": {
        "colab": {
          "base_uri": "https://localhost:8080/"
        },
        "id": "FepOm7WR2Fen",
        "outputId": "62ca33c6-7177-409f-8de9-aa770c2a3e09"
      },
      "execution_count": 2,
      "outputs": [
        {
          "output_type": "stream",
          "name": "stdout",
          "text": [
            "Filtered results using list of dictionaries: 20\n",
            "Filtered results using DataFrame: 20\n",
            "Execution time (list of dictionaries): 0.00015 seconds\n",
            "Execution time (DataFrame): 0.00578 seconds\n"
          ]
        }
      ]
    },
    {
      "cell_type": "code",
      "source": [
        "import pandas as pd\n",
        "\n",
        "# Load the data from CSV files\n",
        "customers_data = pd.read_csv('customers.csv')\n",
        "sales_data = pd.read_csv('sales.csv')\n",
        "\n",
        "# Identify duplicate rows in the customers DataFrame\n",
        "duplicate_customers = customers_data[customers_data.duplicated()]\n",
        "\n",
        "# Remove duplicate rows from the customers DataFrame\n",
        "unique_customers = customers_data.drop_duplicates()\n",
        "\n",
        "# Check if any duplicates remain in the cleaned DataFrame\n",
        "remaining_customer_dupes = unique_customers[unique_customers.duplicated()]\n",
        "\n",
        "# Identify duplicate rows in the sales DataFrame\n",
        "duplicate_sales = sales_data[sales_data.duplicated()]\n",
        "\n",
        "# Remove duplicate rows from the sales DataFrame\n",
        "unique_sales = sales_data.drop_duplicates()\n",
        "\n",
        "# Check if any duplicates remain in the cleaned sales DataFrame\n",
        "remaining_sales_dupes = unique_sales[unique_sales.duplicated()]\n",
        "\n",
        "# Display duplicate and cleaned results for customers\n",
        "print(\"Duplicate rows found in 'customers' dataset:\")\n",
        "print(duplicate_customers)\n",
        "print(\"\\nFirst few rows of cleaned 'customers' dataset (duplicates removed):\")\n",
        "print(unique_customers.head())\n",
        "\n",
        "# Display duplicate and cleaned results for sales\n",
        "print(\"\\nDuplicate rows found in 'sales' dataset:\")\n",
        "print(duplicate_sales)\n",
        "print(\"\\nFirst few rows of cleaned 'sales' dataset (duplicates removed):\")\n",
        "print(unique_sales.head())\n",
        "\n",
        "# Confirm if all duplicates have been removed\n",
        "if remaining_customer_dupes.empty:\n",
        "    print(\"\\nNo duplicate rows remain in the 'customers' dataset.\")\n",
        "if remaining_sales_dupes.empty:\n",
        "    print(\"\\nNo duplicate rows remain in the 'sales' dataset.\")\n"
      ],
      "metadata": {
        "colab": {
          "base_uri": "https://localhost:8080/"
        },
        "id": "NMMRI1FX2W6W",
        "outputId": "3167f326-ff60-41e2-edec-658e3ce0882a"
      },
      "execution_count": 3,
      "outputs": [
        {
          "output_type": "stream",
          "name": "stdout",
          "text": [
            "Duplicate rows found in 'customers' dataset:\n",
            "Empty DataFrame\n",
            "Columns: [CustomerID, Age, City]\n",
            "Index: []\n",
            "\n",
            "First few rows of cleaned 'customers' dataset (duplicates removed):\n",
            "   CustomerID  Age         City\n",
            "0           1   22     New York\n",
            "1           2   23  Los Angeles\n",
            "2           3   24      Chicago\n",
            "3           4   25      Houston\n",
            "4           5   26      Phoenix\n",
            "\n",
            "Duplicate rows found in 'sales' dataset:\n",
            "Empty DataFrame\n",
            "Columns: [SaleID, CustomerID, Product, Amount]\n",
            "Index: []\n",
            "\n",
            "First few rows of cleaned 'sales' dataset (duplicates removed):\n",
            "   SaleID  CustomerID     Product  Amount\n",
            "0     101           1      Laptop     200\n",
            "1     102           2  Smartphone     500\n",
            "2     103           3      Tablet     800\n",
            "3     104           4  Headphones    1100\n",
            "4     105           5     Monitor    1400\n",
            "\n",
            "No duplicate rows remain in the 'customers' dataset.\n",
            "\n",
            "No duplicate rows remain in the 'sales' dataset.\n"
          ]
        }
      ]
    },
    {
      "cell_type": "code",
      "source": [
        "import pandas as pd\n",
        "\n",
        "# Load the sales data from the CSV file\n",
        "sales_data = pd.read_csv('sales.csv')\n",
        "\n",
        "# Add a new column 'Discount_Price' with a 10% discount applied to the 'Amount' column\n",
        "sales_data['Discount_Price'] = sales_data['Amount'] * 0.9\n",
        "\n",
        "# Calculate the total discounted sales grouped by product\n",
        "discounted_sales_summary = sales_data.groupby('Product')['Discount_Price'].sum().reset_index()\n",
        "\n",
        "# Display the total sales after applying the discount, grouped by product\n",
        "print(\"Summary of Total Discounted Sales by Product:\")\n",
        "print(discounted_sales_summary)\n"
      ],
      "metadata": {
        "colab": {
          "base_uri": "https://localhost:8080/"
        },
        "id": "L4J4HVzr21f6",
        "outputId": "88caa4ef-b118-47c7-e453-91ee1143de22"
      },
      "execution_count": 4,
      "outputs": [
        {
          "output_type": "stream",
          "name": "stdout",
          "text": [
            "Summary of Total Discounted Sales by Product:\n",
            "      Product  Discount_Price\n",
            "0  Headphones         79200.0\n",
            "1      Laptop         14400.0\n",
            "2     Monitor        100800.0\n",
            "3  Smartphone         36000.0\n",
            "4      Tablet         57600.0\n"
          ]
        }
      ]
    },
    {
      "cell_type": "code",
      "source": [
        "import pandas as pd\n",
        "\n",
        "# Load customer data from the CSV file\n",
        "customer_data = pd.read_csv('customers.csv')\n",
        "\n",
        "# Filter customers whose age falls between 25 and 35 (inclusive)\n",
        "age_filtered_customers = customer_data[(customer_data['Age'] >= 25) & (customer_data['Age'] <= 35)]\n",
        "\n",
        "# Group by 'City' and count the number of customers in each city\n",
        "customers_per_city = age_filtered_customers.groupby('City').size().reset_index(name='Total_Customers')\n",
        "\n",
        "# Display the count of customers in each city within the specified age range\n",
        "print(\"Customer Counts by City (Ages 25 to 35):\")\n",
        "print(customers_per_city)\n"
      ],
      "metadata": {
        "colab": {
          "base_uri": "https://localhost:8080/"
        },
        "id": "9YgXZTol3CUu",
        "outputId": "83eb7276-25c3-44c4-930d-a7cce882bbe5"
      },
      "execution_count": 5,
      "outputs": [
        {
          "output_type": "stream",
          "name": "stdout",
          "text": [
            "Customer Counts by City (Ages 25 to 35):\n",
            "          City  Total_Customers\n",
            "0      Chicago                7\n",
            "1      Houston               11\n",
            "2  Los Angeles                7\n",
            "3     New York                7\n",
            "4      Phoenix                8\n"
          ]
        }
      ]
    },
    {
      "cell_type": "code",
      "source": [
        "import pandas as pd\n",
        "\n",
        "# Load data from CSV files\n",
        "customers_data = pd.read_csv('customers.csv')\n",
        "sales_data = pd.read_csv('sales.csv')\n",
        "\n",
        "# Merge sales and customer data on the 'CustomerID' column\n",
        "combined_data = pd.merge(sales_data, customers_data, on='CustomerID')\n",
        "\n",
        "# Calculate total sales per city\n",
        "sales_by_city = combined_data.groupby('City')['Amount'].sum().reset_index()\n",
        "\n",
        "# Find the city with the highest total sales\n",
        "top_city_sales = sales_by_city.loc[sales_by_city['Amount'].idxmax()]\n",
        "\n",
        "# Calculate total sales for each product\n",
        "sales_by_product = combined_data.groupby('Product')['Amount'].sum().reset_index()\n",
        "\n",
        "# Identify the product with the highest sales\n",
        "top_product_sales = sales_by_product.loc[sales_by_product['Amount'].idxmax()]\n",
        "\n",
        "# Display the results\n",
        "print(\"City generating the highest total sales:\")\n",
        "print(top_city_sales)\n",
        "\n",
        "print(\"\\nProduct with the highest sales:\")\n",
        "print(top_product_sales)\n"
      ],
      "metadata": {
        "colab": {
          "base_uri": "https://localhost:8080/"
        },
        "id": "kqAXHkjp3RtU",
        "outputId": "93406477-1608-4963-cdd8-ef1ef9a9acae"
      },
      "execution_count": 6,
      "outputs": [
        {
          "output_type": "stream",
          "name": "stdout",
          "text": [
            "City generating the highest total sales:\n",
            "City      Phoenix\n",
            "Amount     112000\n",
            "Name: 4, dtype: object\n",
            "\n",
            "Product with the highest sales:\n",
            "Product    Monitor\n",
            "Amount      112000\n",
            "Name: 2, dtype: object\n"
          ]
        }
      ]
    },
    {
      "cell_type": "code",
      "source": [
        "import pandas as pd\n",
        "\n",
        "# Load customer and sales data from CSV files\n",
        "customer_data = pd.read_csv('customers.csv')\n",
        "sales_data = pd.read_csv('sales.csv')\n",
        "\n",
        "# Merge the datasets based on 'CustomerID'\n",
        "combined_dataset = pd.merge(sales_data, customer_data, on='CustomerID')\n",
        "\n",
        "# Extract unique values from the 'City' column\n",
        "distinct_cities = combined_dataset['City'].unique()\n",
        "\n",
        "# Extract unique values from the 'Product' column\n",
        "distinct_products = combined_dataset['Product'].unique()\n",
        "\n",
        "# Display unique values in the 'City' column\n",
        "print(\"Distinct cities present in the dataset:\")\n",
        "print(distinct_cities)\n",
        "\n",
        "# Display unique values in the 'Product' column\n",
        "print(\"\\nDistinct products present in the dataset:\")\n",
        "print(distinct_products)\n",
        "\n",
        "# Calculate the average and median of the 'Amount' column\n",
        "average_amount = combined_dataset['Amount'].mean()\n",
        "median_amount = combined_dataset['Amount'].median()\n",
        "\n",
        "# Display the calculated mean and median\n",
        "print(\"\\nAverage value of the 'Amount' column:\", average_amount)\n",
        "print(\"Median value of the 'Amount' column:\", median_amount)\n"
      ],
      "metadata": {
        "colab": {
          "base_uri": "https://localhost:8080/"
        },
        "id": "4yBpUAO23hUv",
        "outputId": "af2ca006-21aa-4408-ad5a-47c84ed1dc91"
      },
      "execution_count": 7,
      "outputs": [
        {
          "output_type": "stream",
          "name": "stdout",
          "text": [
            "Distinct cities present in the dataset:\n",
            "['New York' 'Los Angeles' 'Chicago' 'Houston' 'Phoenix']\n",
            "\n",
            "Distinct products present in the dataset:\n",
            "['Laptop' 'Smartphone' 'Tablet' 'Headphones' 'Monitor']\n",
            "\n",
            "Average value of the 'Amount' column: 800.0\n",
            "Median value of the 'Amount' column: 800.0\n"
          ]
        }
      ]
    }
  ]
}